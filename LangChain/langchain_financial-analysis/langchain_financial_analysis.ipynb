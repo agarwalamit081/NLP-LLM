{
 "cells": [
  {
   "cell_type": "markdown",
   "id": "5f175d9a-6bf8-48c8-839b-7098682aa51e",
   "metadata": {},
   "source": [
    "# Using LangChain Agent for analysis of Financial statements"
   ]
  },
  {
   "cell_type": "markdown",
   "id": "4a46e0d8-8e10-460c-8ca5-13d805b053ee",
   "metadata": {},
   "source": [
    "Financial statements of World Health Organization has been used."
   ]
  },
  {
   "cell_type": "code",
   "execution_count": null,
   "id": "a1c7e9ef-9ee4-4831-b071-07860c21e5d8",
   "metadata": {},
   "outputs": [],
   "source": [
    "# OPENAI_API_KEY=\"\""
   ]
  },
  {
   "cell_type": "code",
   "execution_count": 1,
   "id": "de8a9586-c673-4c1f-9733-db4e77d30fb5",
   "metadata": {},
   "outputs": [],
   "source": [
    "from dotenv import load_dotenv\n",
    "import os\n",
    "\n",
    "load_dotenv()\n",
    "openai_api_key = os.getenv(\"OPENAI_API_KEY\")"
   ]
  },
  {
   "cell_type": "markdown",
   "id": "b33f4c8b-9333-452d-91f3-9b65e36eefdf",
   "metadata": {},
   "source": [
    "## Extract Text from PDFs"
   ]
  },
  {
   "cell_type": "code",
   "execution_count": 2,
   "id": "0d5869bd-0ada-4e8a-a55d-70d95a4b083e",
   "metadata": {},
   "outputs": [],
   "source": [
    "from PyPDF2 import PdfReader\n",
    "def extract_text_from_pdf(pdf_path):\n",
    "    reader = PdfReader(pdf_path)\n",
    "    text = \"\"\n",
    "    for page in reader.pages:\n",
    "        text += page.extract_text()\n",
    "    return text\n",
    "\n",
    "# Extract text from all PDFs\n",
    "fs_2021 = extract_text_from_pdf(\"data/fs_2021.pdf\")\n",
    "fs_2022 = extract_text_from_pdf(\"data/fs_2022.pdf\")\n",
    "fs_2023 = extract_text_from_pdf(\"data/fs_2023.pdf\")\n",
    "basic_understanding = extract_text_from_pdf(\"data/basic-understanding-of-a-companys-financials.pdf\")"
   ]
  },
  {
   "cell_type": "markdown",
   "id": "eb5b102f-b490-4430-9c68-3d2225f7d9b6",
   "metadata": {},
   "source": [
    "## Split Text into Sentences and Words"
   ]
  },
  {
   "cell_type": "code",
   "execution_count": 3,
   "id": "135cf518-0905-46c8-a25f-b076a0188956",
   "metadata": {},
   "outputs": [],
   "source": [
    "from langchain.text_splitter import RecursiveCharacterTextSplitter\n",
    "\n",
    "text_splitter = RecursiveCharacterTextSplitter(\n",
    "    chunk_size=1000,    # try different values\n",
    "    chunk_overlap=200,  # Overlap to maintain context\n",
    "    length_function=len\n",
    ")\n",
    "\n",
    "# Split the text\n",
    "fs_2021_chunks = text_splitter.split_text(fs_2021)\n",
    "fs_2022_chunks = text_splitter.split_text(fs_2022)\n",
    "fs_2023_chunks = text_splitter.split_text(fs_2023)\n",
    "basic_understanding_chunks = text_splitter.split_text(basic_understanding)"
   ]
  },
  {
   "cell_type": "code",
   "execution_count": null,
   "id": "d55abbe1-349c-4abe-85f2-1203fdb97873",
   "metadata": {},
   "outputs": [],
   "source": []
  },
  {
   "cell_type": "markdown",
   "id": "63d29045-b472-44e1-95a5-3d3001b94228",
   "metadata": {},
   "source": [
    "## Tokenize the text"
   ]
  },
  {
   "cell_type": "code",
   "execution_count": 4,
   "id": "119175c0-03ed-40e2-95ac-fb77a5cdb3d2",
   "metadata": {},
   "outputs": [],
   "source": [
    "# Tokenization is handled internally by LangChain and OpenAI embeddings,"
   ]
  },
  {
   "cell_type": "markdown",
   "id": "9b31bbd9-a017-4357-9002-26b7f5824eed",
   "metadata": {},
   "source": [
    "## Create Context-Aware and Regular Word Embeddings"
   ]
  },
  {
   "cell_type": "code",
   "execution_count": 5,
   "id": "4d8434f2-1e95-4fec-8986-fe318a24a0ff",
   "metadata": {},
   "outputs": [
    {
     "name": "stdout",
     "output_type": "stream",
     "text": [
      "Loading embeddings from pickle files...\n"
     ]
    }
   ],
   "source": [
    "import pickle\n",
    "import os\n",
    "from langchain_openai import OpenAIEmbeddings\n",
    "\n",
    "# Define paths for saving pickled embeddings\n",
    "fs_2021_pickle_path = \"data/fs_2021_embeddings.pkl\"\n",
    "fs_2022_pickle_path = \"data/fs_2022_embeddings.pkl\"\n",
    "fs_2023_pickle_path = \"data/fs_2023_embeddings.pkl\"\n",
    "basic_understanding_pickle_path = \"basic_understanding_embeddings.pkl\"\n",
    "\n",
    "# Function to save embeddings to a pickle file\n",
    "def save_embeddings_to_pickle(embeddings, file_path):\n",
    "    with open(file_path, \"wb\") as f:\n",
    "        pickle.dump(embeddings, f)\n",
    "\n",
    "# Function to load embeddings from a pickle file\n",
    "def load_embeddings_from_pickle(file_path):\n",
    "    with open(file_path, \"rb\") as f:\n",
    "        return pickle.load(f)\n",
    "\n",
    "# Check if pickled embeddings already exist\n",
    "if os.path.exists(fs_2021_pickle_path) and os.path.exists(fs_2022_pickle_path) and os.path.exists(fs_2023_pickle_path) and os.path.exists(basic_understanding_pickle_path):\n",
    "    print(\"Loading embeddings from pickle files...\")\n",
    "    fs_2021_embeddings = load_embeddings_from_pickle(fs_2021_pickle_path)\n",
    "    fs_2022_embeddings = load_embeddings_from_pickle(fs_2022_pickle_path)\n",
    "    fs_2023_embeddings = load_embeddings_from_pickle(fs_2023_pickle_path)\n",
    "    basic_understanding_embeddings = load_embeddings_from_pickle(basic_understanding_pickle_path)\n",
    "else:\n",
    "    print(\"Generating embeddings and saving to pickle files...\")\n",
    "    # Initialize OpenAI embeddings\n",
    "    embeddings = OpenAIEmbeddings(openai_api_key=openai_api_key)\n",
    "\n",
    "    # Generate embeddings for each chunk\n",
    "    fs_2021_embeddings = embeddings.embed_documents(fs_2021_chunks)\n",
    "    fs_2022_embeddings = embeddings.embed_documents(fs_2022_chunks)\n",
    "    fs_2023_embeddings = embeddings.embed_documents(fs_2023_chunks)\n",
    "    basic_understanding_embeddings = embeddings.embed_documents(basic_understanding_chunks)\n",
    "\n",
    "    # Save embeddings to pickle files\n",
    "    save_embeddings_to_pickle(fs_2021_embeddings, fs_2021_pickle_path)\n",
    "    save_embeddings_to_pickle(fs_2022_embeddings, fs_2022_pickle_path)\n",
    "    save_embeddings_to_pickle(fs_2023_embeddings, fs_2023_pickle_path)\n",
    "    save_embeddings_to_pickle(basic_understanding_embeddings, basic_understanding_pickle_path)"
   ]
  },
  {
   "cell_type": "markdown",
   "id": "067581ab-3527-4f70-b5e8-67cd1ada5be6",
   "metadata": {},
   "source": [
    "## Update ChromaDB Client Initialization"
   ]
  },
  {
   "cell_type": "code",
   "execution_count": 6,
   "id": "39716fc0-e514-4e20-bfc3-73c6b304fbfd",
   "metadata": {},
   "outputs": [
    {
     "name": "stdout",
     "output_type": "stream",
     "text": [
      "ChromaDB and Settings imported successfully!\n",
      "Collection created successfully!\n"
     ]
    }
   ],
   "source": [
    "import chromadb\n",
    "from chromadb.config import Settings\n",
    "print(\"ChromaDB and Settings imported successfully!\")\n",
    "\n",
    "# Initialize ChromaDB client in embedded mode\n",
    "# client = chromadb.Client(Settings(\n",
    "#     chroma_db_impl=\"duckdb+parquet\",  # Use DuckDB with Parquet for storage\n",
    "#     persist_directory=\"./chroma_db\"   # Directory to store the database\n",
    "# ))\n",
    "\n",
    "client = chromadb.PersistentClient(\n",
    "    path=\"./chroma_db\"  # Directory to store the database\n",
    ")\n",
    "\n",
    "# Create or load a collection\n",
    "collection = client.get_or_create_collection(name=\"financial_statements\")\n",
    "\n",
    "print(\"Collection created successfully!\")"
   ]
  },
  {
   "cell_type": "markdown",
   "id": "66039544-9e56-422c-aff9-10807b540bc2",
   "metadata": {},
   "source": [
    "##  Store Embeddings in ChromaDB"
   ]
  },
  {
   "cell_type": "code",
   "execution_count": 8,
   "id": "9a20fbee-bae9-4551-8091-f9805664d092",
   "metadata": {},
   "outputs": [],
   "source": [
    "# Add embeddings to the collection\n",
    "for i, (chunk, embedding) in enumerate(zip(fs_2021_chunks, fs_2021_embeddings)):\n",
    "    collection.add(\n",
    "        documents=[chunk],\n",
    "        embeddings=[embedding],\n",
    "        metadatas=[{\"year\": 2021, \"source\": \"fs_2021.pdf\"}],\n",
    "        ids=[f\"fs_2021_{i}\"]\n",
    "    )\n",
    "\n",
    "for i, (chunk, embedding) in enumerate(zip(fs_2022_chunks, fs_2022_embeddings)):\n",
    "    collection.add(\n",
    "        documents=[chunk],\n",
    "        embeddings=[embedding],\n",
    "        metadatas=[{\"year\": 2022, \"source\": \"fs_2022.pdf\"}],\n",
    "        ids=[f\"fs_2022_{i}\"]\n",
    "    )\n",
    "\n",
    "for i, (chunk, embedding) in enumerate(zip(fs_2023_chunks, fs_2023_embeddings)):\n",
    "    collection.add(\n",
    "        documents=[chunk],\n",
    "        embeddings=[embedding],\n",
    "        metadatas=[{\"year\": 2023, \"source\": \"fs_2023.pdf\"}],\n",
    "        ids=[f\"fs_2023_{i}\"]\n",
    "    )\n",
    "\n",
    "for i, (chunk, embedding) in enumerate(zip(basic_understanding_chunks, basic_understanding_embeddings)):\n",
    "    collection.add(\n",
    "        documents=[chunk],\n",
    "        embeddings=[embedding],\n",
    "        metadatas=[{\"source\": \"basic-understanding-of-a-companys-financials.pdf\"}],\n",
    "        ids=[f\"basic_understanding_{i}\"]\n",
    "    )"
   ]
  },
  {
   "cell_type": "markdown",
   "id": "84085be0-088b-49e6-8a0d-0893227dce63",
   "metadata": {},
   "source": [
    "## Verify ChromaDB Population"
   ]
  },
  {
   "cell_type": "code",
   "execution_count": 12,
   "id": "f46c0f26-050a-4e30-8490-0c4862dbf0eb",
   "metadata": {},
   "outputs": [],
   "source": [
    "# Query the Collection\n",
    "# Retrieve all items from the collection\n",
    "items = collection.get()"
   ]
  },
  {
   "cell_type": "code",
   "execution_count": 13,
   "id": "528367c2-4aa4-4b27-9d7d-182e7ae7f73c",
   "metadata": {},
   "outputs": [
    {
     "name": "stdout",
     "output_type": "stream",
     "text": [
      "Keys in the collection: dict_keys(['ids', 'embeddings', 'documents', 'uris', 'data', 'metadatas', 'included'])\n"
     ]
    }
   ],
   "source": [
    "# Inspect the keys in the returned dictionary\n",
    "print(\"Keys in the collection:\", items.keys())"
   ]
  },
  {
   "cell_type": "code",
   "execution_count": 11,
   "id": "9cee2a0e-4807-4499-bd33-a509590dd8b2",
   "metadata": {},
   "outputs": [
    {
     "name": "stdout",
     "output_type": "stream",
     "text": [
      "Keys in the collection: dict_keys(['ids', 'embeddings', 'documents', 'uris', 'data', 'metadatas', 'included'])\n",
      "Document: AUDITED FINANCIAL STATEMENTS  \n",
      "FOR THE YEAR ENDED 31 DECEMBER 2021A75/33  \n",
      "SEVENTY-FIFTH WORLD HEALTH ASSEMBLY  \n",
      "Provisional agenda item 22.1  \n",
      "13 May 2022Table of contents\n",
      "Financial statements at a glance        2\n",
      "Director-General’s summary          4\n",
      "2021 Statement of Internal Control        18\n",
      "Certification of financial statements for the year ended 31 December 2021      22\n",
      "Opinion of the External Auditor        23\n",
      "Independent Auditor’s report         25\n",
      "Financial statements          28\n",
      " Statement I. Statement of Financial Position      28\n",
      " Statement II. Statement of Financial Performance      29\n",
      " Statement III. Statement of Changes in Net Assets/Equity     30\n",
      " Statement IV. Statement of Cash Flow        31\n",
      " Statement V. Statement of Comparison of Budget and Actual Amounts  32\n",
      "1. Notes to the financial statements         33\n",
      "2. Significant accounting policies        34\n",
      "3. Note on the restatement/reclassification of balances     44\n",
      "Metadata: {'source': 'fs_2021.pdf', 'year': 2021}\n",
      "--------------------------------------------------\n",
      "Document: 1. Notes to the financial statements         33\n",
      "2. Significant accounting policies        34\n",
      "3. Note on the restatement/reclassification of balances     44\n",
      "4. Supporting information to the Statement of Financial Position   45\n",
      "5. Supporting information to the Statement of Financial Performance  68\n",
      "6. Supporting information to the Statement of Changes in Net Assets/Equity     73\n",
      "7. Supporting information to the Statement of Comparison of Budget and Actual Amounts   79\n",
      "8. Segment reporting          81\n",
      "9. Amounts written-off and ex-gratia payments      83\n",
      "10. Related party and other senior management disclosures    83\n",
      "11. Events after the reporting date        84\n",
      "12. Contingent liabilities, commitments and contingent assets    84\n",
      "Schedule I. Statement of Financial Performance by major funds   85\n",
      "Schedule II. Expenses by major office - General Fund only    86\n",
      "Schedule III. Financial overview – all funds, 2020–2021, 2018–2019 and 2016–2017    87A75/33\n",
      "1Financial Statements 2021 at a Glance\n",
      "Metadata: {'source': 'fs_2021.pdf', 'year': 2021}\n",
      "--------------------------------------------------\n",
      "Document: Schedule II. Expenses by major office - General Fund only    86\n",
      "Schedule III. Financial overview – all funds, 2020–2021, 2018–2019 and 2016–2017    87A75/33\n",
      "1Financial Statements 2021 at a Glance\n",
      "Revenue\n",
      "2021: US$ 4066 m \n",
      "2020: US$ 4299 m\n",
      "Assets\n",
      "2021: US$ 7214 m  \n",
      "2020: US$ 7137mExpenses\n",
      "2021: US$ 3718 m \n",
      "2020: US$ 3561 m\n",
      "Liabilities\n",
      "2021: US$ 3807 m \n",
      "2020: US$ 4547 mSurplus / (deficit)1\n",
      "2021: US$ 351 m \n",
      "2020: US$ 824 m\n",
      "1 Includes Finance Revenue (2021:  \n",
      "US$ 3m, 2020: US$ 86m)\n",
      "Net assets/equity\n",
      "2021: US$ 3407 m \n",
      "2020: $2590 m\n",
      "3512590\n",
      "466\n",
      "Staff related Opening Net Assets\n",
      "Inter-entity Surplus/(deficit)\n",
      "Other Other adjustmentsBorrowing Financial Assets\n",
      "Fixed assetsReceivables\n",
      "Other Deferred and advance contributions\n",
      "50152351671293\n",
      "798\n",
      "1480973383173\n",
      "184 5\n",
      "3333 353\n",
      "549 1330 49711854101867819 13\n",
      "(7)\n",
      "Non-Programme budget / other revenueVoluntary contributions (PB)Contractual services Medical supplies and materials\n",
      "Staff costs Transfers and grants\n",
      "Travel General operating expenses\n",
      "Metadata: {'source': 'fs_2021.pdf', 'year': 2021}\n",
      "--------------------------------------------------\n",
      "Document: (7)\n",
      "Non-Programme budget / other revenueVoluntary contributions (PB)Contractual services Medical supplies and materials\n",
      "Staff costs Transfers and grants\n",
      "Travel General operating expenses\n",
      "Equipment, vehicles and furniture Depreciation and amortizationGeneral fund\n",
      "Member States - other\n",
      "Fiduciary FundUS$ 3718  \n",
      "million\n",
      "US$ 3807  \n",
      "millionUS$ 7214  \n",
      "millionAssessed contributions (PB)\n",
      "2A75/33Financial Statements 2021 at a Glance\n",
      "Programme budget expenses by location 2021\n",
      "(US$ millions)ASHI Funding Status\n",
      "2021: 51%  \n",
      "2020: 40%Top 10 contributors of Programme \n",
      "budget revenue\n",
      "2021: 67%  \n",
      "2020: 60%Expenses by Region\n",
      "2021: US$ 3718 m \n",
      "2020: US$ 3561 m\n",
      "51% fundedHeadquarters Africa\n",
      "Americas Eastern Mediterranean\n",
      "Europe South-East Asia\n",
      "Western Pacific\n",
      "Un-funded ASHI obligation\n",
      "Funded ASHI obligationGermany United States of America\n",
      "Bill & Melinda Gates Foundation GAVI Alliance\n",
      "NorwayEuropean Comission\n",
      "JapanUnited Kingdom of Great Britain and Northern Ireland \n",
      "Rotary InternationalCanada\n",
      "Metadata: {'source': 'fs_2021.pdf', 'year': 2021}\n",
      "--------------------------------------------------\n",
      "Document: Bill & Melinda Gates Foundation GAVI Alliance\n",
      "NorwayEuropean Comission\n",
      "JapanUnited Kingdom of Great Britain and Northern Ireland \n",
      "Rotary InternationalCanada\n",
      "Headquarters Africa\n",
      "Regional offices Americas\n",
      "Country offices South-East AsiaEastern Mediterranean\n",
      "Western PacificEurope\n",
      "33%17%\n",
      "1111\n",
      "872869276251204\n",
      "13512%\n",
      "10%\n",
      "6%6% 5%5%2%2%\n",
      "2%67%US$ 3718  \n",
      "million\n",
      "0%20%40%60%80%100%\n",
      "1055 486\n",
      "2025\n",
      "669\n",
      "12878315120787Other\n",
      "3A75/33Director-General’s summary \n",
      "The past year was not one that we, or anyone, could have predicted. For many it has been a \n",
      "time of great hardship and loss. Since declaring a public health emergency of international \n",
      "concern over the spread of Coronavirus disease (COVID-19), WHO has worked tirelessly with \n",
      "Member States and the wider community to overcome the ongoing challenges of responding \n",
      "to COVID-19, addressing inequities, and plotting a course out of the pandemic.\n",
      "In addition, WHO responded to 75 other health emergencies in 2021, from acute crises in\n",
      "Metadata: {'source': 'fs_2021.pdf', 'year': 2021}\n",
      "--------------------------------------------------\n"
     ]
    }
   ],
   "source": [
    "# Print the first few documents and their metadata\n",
    "for doc, metadata in zip(items[\"documents\"][:5], items[\"metadatas\"][:5]):\n",
    "    print(\"Document:\", doc)\n",
    "    print(\"Metadata:\", metadata)\n",
    "    print(\"-\" * 50)"
   ]
  },
  {
   "cell_type": "code",
   "execution_count": 14,
   "id": "b25fe4d2-38dd-4ade-a7d7-116ec6736b37",
   "metadata": {},
   "outputs": [
    {
     "name": "stdout",
     "output_type": "stream",
     "text": [
      "Number of items in the collection: 900\n"
     ]
    }
   ],
   "source": [
    "# Check the Number of Items\n",
    "print(\"Number of items in the collection:\", len(items[\"ids\"]))"
   ]
  },
  {
   "cell_type": "markdown",
   "id": "759e6b64-a222-426f-aab6-a614a40333bf",
   "metadata": {},
   "source": [
    "## Persist the Database"
   ]
  },
  {
   "cell_type": "code",
   "execution_count": 25,
   "id": "cc2fea0a-0b23-46d7-8918-5b9225adb80c",
   "metadata": {},
   "outputs": [],
   "source": [
    "# client.persist()\n",
    "# AttributeError: 'Client' object has no attribute 'persist'"
   ]
  },
  {
   "cell_type": "markdown",
   "id": "91cd53ed-d992-47a4-b9a7-ea36d22ef7e9",
   "metadata": {},
   "source": [
    "## Create LangChain Agents and Prompts"
   ]
  },
  {
   "cell_type": "code",
   "execution_count": 16,
   "id": "01761c2e-5f8f-4ec3-a03a-d1b8af2b1351",
   "metadata": {},
   "outputs": [
    {
     "name": "stdout",
     "output_type": "stream",
     "text": [
      "{'query': '\\nYou are a financial analyst. Use the provided financial statements and the document \"basic understanding of a company\\'s financials\" to answer the following question:\\n\\nQuestion: What are the key trends in the company\\'s revenue from 2021 to 2023?\\n', 'result': \"The key trends in the company's revenue from 2021 to 2023 are as follows:\\n\\n- In 2021, the company's revenue was US$ 4066 million.\\n- In 2022, the company's revenue increased to US$ 4354 million, which was a rise of US$ 288 million compared to 2021.\\n- However, in 2023, the company's revenue declined to US$ 3341 million, a decrease of US$ 1013 million compared to 2022.\\n\\nThe main drivers of the decrease in revenue in 2023 were the reduction in voluntary contributions by US$ 911 million and the reduction in in-kind contributions by US$ 91 million.\"}\n"
     ]
    }
   ],
   "source": [
    "from langchain.chains import RetrievalQA\n",
    "from langchain.chat_models import ChatOpenAI\n",
    "from langchain.vectorstores import Chroma\n",
    "from langchain.embeddings import OpenAIEmbeddings\n",
    "\n",
    "# Initialize OpenAI embeddings\n",
    "embeddings = OpenAIEmbeddings(openai_api_key=openai_api_key)\n",
    "\n",
    "# Initialize the vector store\n",
    "vector_store = Chroma(\n",
    "    client=client,\n",
    "    collection_name=\"financial_statements\",\n",
    "    embedding_function=embeddings\n",
    ")\n",
    "\n",
    "# Initialize the LLM\n",
    "llm = ChatOpenAI(openai_api_key=openai_api_key, model=\"gpt-4\", temperature=0)\n",
    "\n",
    "# Create a retrieval-based QA chain\n",
    "qa_chain = RetrievalQA.from_chain_type(\n",
    "    llm=llm,\n",
    "    chain_type=\"stuff\",\n",
    "    retriever=vector_store.as_retriever()\n",
    ")\n",
    "\n",
    "# Define a prompt template\n",
    "prompt_template = \"\"\"\n",
    "You are a financial analyst. Use the provided financial statements and the document \"basic understanding of a company's financials\" to answer the following question:\n",
    "\n",
    "Question: {question}\n",
    "\"\"\"\n",
    "\n",
    "# Function to query the agent\n",
    "def query_agent(question):\n",
    "    prompt = prompt_template.format(question=question)\n",
    "    response = qa_chain.invoke(prompt)\n",
    "    return response\n",
    "\n",
    "# Example query\n",
    "question = \"What are the key trends in the company's revenue from 2021 to 2023?\"\n",
    "answer = query_agent(question)\n",
    "print(answer)\n"
   ]
  },
  {
   "cell_type": "markdown",
   "id": "a7c4d225-bcc3-4c53-8c6c-163b744276ad",
   "metadata": {},
   "source": [
    "## Test the Agent"
   ]
  },
  {
   "cell_type": "code",
   "execution_count": 19,
   "id": "f2f0ac25-12f5-42e0-b3b6-08834effdc05",
   "metadata": {},
   "outputs": [
    {
     "name": "stdout",
     "output_type": "stream",
     "text": [
      "{'query': '\\nYou are a financial analyst. Use the provided financial statements and the document \"basic understanding of a company\\'s financials\" to answer the following question:\\n\\nQuestion: Explain the trends in the organization\\'s cash flow statement from 2021 to 2022 based on the basic understanding document?\\n', 'result': 'Based on the provided cash flow statement and the \"basic understanding of a company\\'s financials\" document, we can observe several trends from 2021 to 2022:\\n\\n1. The total deficit/surplus for the year increased significantly from 350,734 in 2021 to 600,100 in 2022. This indicates that the company\\'s operations have become more profitable or efficient, leading to a higher surplus of cash from operating activities.\\n\\n2. Depreciation and amortization slightly increased from 12,896 in 2021 to 14,093 in 2022. This could be due to the company acquiring more depreciable assets or the existing assets getting older.\\n\\n3. The company experienced a significant decrease in investment revenue presented as investing activities, from 6,226 in 2021 to 2,426 in 2022. This could suggest that the company\\'s investments did not perform as well in 2022 as they did in 2021.\\n\\n4. There was a significant shift in unrealized gains/losses on revaluation of long-term borrowings. In 2021, there was a gain of 8,075, but in 2022, there was a loss of 46,327. This could indicate a negative trend in the company\\'s long-term borrowings.\\n\\n5. The company\\'s receivables – current increased significantly from 531 in 2021 to 273,787 in 2022. This could suggest that the company sold more goods or services on credit in 2022, which could potentially lead to higher future cash inflows if these receivables are collected.\\n\\n6. There was a significant increase in prepayments and deposits from 9,167 in 2021 to 87,945 in 2022. This could indicate that the company made more advance payments for expenses or assets in 2022.\\n\\n7. The company\\'s accounts payable decreased from 68,508 in 2021 to 45,474 in 2022. This could suggest that the company paid off some of its short-term debts or had fewer purchases on credit in 2022.\\n\\nThese trends provide insights into the company\\'s cash flow activities and can be used to assess its financial health and performance. However, a more comprehensive analysis would also consider other factors such as the company\\'s income statement and balance sheet, as well as industry trends and economic conditions.'}\n"
     ]
    }
   ],
   "source": [
    "question2 = \"Explain the trends in the organization's cash flow statement from 2021 to 2022 based on the basic understanding document?\"\n",
    "answer2 = query_agent(question2)\n",
    "print(answer2)"
   ]
  },
  {
   "cell_type": "code",
   "execution_count": 22,
   "id": "763667f8-d429-4565-ab33-e126323d9f04",
   "metadata": {},
   "outputs": [
    {
     "name": "stdout",
     "output_type": "stream",
     "text": [
      "{'query': '\\nYou are a financial analyst. Use the provided financial statements and the document \"basic understanding of a company\\'s financials\" to answer the following question:\\n\\nQuestion: How has the cash and assets changed over the years?\\n', 'result': \"I'm sorry, but I can't provide the information you're looking for because the documents provided do not include historical data or comparisons over years. They only provide a basic understanding of what financial statements are and how to read them.\"}\n"
     ]
    }
   ],
   "source": [
    "question3 = \"How has the cash and assets changed over the years?\"\n",
    "answer3 = query_agent(question3)\n",
    "print(answer3)"
   ]
  },
  {
   "cell_type": "code",
   "execution_count": 23,
   "id": "63531a2d-68fc-4820-b1cb-36962aecf634",
   "metadata": {},
   "outputs": [
    {
     "name": "stdout",
     "output_type": "stream",
     "text": [
      "{'query': '\\nYou are a financial analyst. Use the provided financial statements and the document \"basic understanding of a company\\'s financials\" to answer the following question:\\n\\nQuestion: How has the contribution to the revenue changed over the years?\\n', 'result': 'The assessed contributions to the revenue have seen some fluctuations over the years. In 2020, the assessed contributions were US$ 465.9 million. This increased to US$ 549.3 million in 2021, showing a significant rise. However, in 2023, the assessed contributions decreased to US$ 494.1 million. \\n\\nVoluntary contributions also showed a similar trend. In 2020, the voluntary contributions were US$ 3,704,226 thousands. This decreased to US$ 3,365,228 thousands in 2021. The total voluntary contributions for the financial period 2022-2023 were US$ 6,333 million, showing a significant increase from the previous years.\\n\\nOverall, the total revenue (all sources) increased from US$ 6,017 million in 2018-2019 to US$ 8,365 million in 2020-2021, but then decreased to US$ 7,694 million in 2022-2023. \\n\\nSo, while there have been some fluctuations in both assessed and voluntary contributions to the revenue, the overall trend has been an increase in total revenue over the years.'}\n"
     ]
    }
   ],
   "source": [
    "question4 = \"How has the contribution to the revenue changed over the years?\"\n",
    "answer4 = query_agent(question4)\n",
    "print(answer4)"
   ]
  },
  {
   "cell_type": "code",
   "execution_count": null,
   "id": "d7056780-8f70-4622-beea-2b60136fa2e3",
   "metadata": {},
   "outputs": [],
   "source": []
  }
 ],
 "metadata": {
  "kernelspec": {
   "display_name": "Python 3 (ipykernel)",
   "language": "python",
   "name": "python3"
  },
  "language_info": {
   "codemirror_mode": {
    "name": "ipython",
    "version": 3
   },
   "file_extension": ".py",
   "mimetype": "text/x-python",
   "name": "python",
   "nbconvert_exporter": "python",
   "pygments_lexer": "ipython3",
   "version": "3.10.16"
  }
 },
 "nbformat": 4,
 "nbformat_minor": 5
}
