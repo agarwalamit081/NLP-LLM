{
 "cells": [
  {
   "cell_type": "markdown",
   "metadata": {},
   "source": [
    "You can download the `requirements.txt` for this course from the workspace of this lab. `File --> Open...`"
   ]
  },
  {
   "cell_type": "markdown",
   "metadata": {},
   "source": [
    "# L2: Create Agents to Research and Write an Article\n",
    "\n",
    "In this lesson, you will be introduced to the foundational concepts of multi-agent systems and get an overview of the crewAI framework."
   ]
  },
  {
   "cell_type": "markdown",
   "metadata": {},
   "source": [
    "The libraries are already installed in the classroom. If you're running this notebook on your own machine, you can install the following:\n",
    "```Python\n",
    "!pip install crewai==0.28.8 crewai_tools==0.1.6 langchain_community==0.0.29\n",
    "```"
   ]
  },
  {
   "cell_type": "code",
   "execution_count": 1,
   "metadata": {
    "height": 64
   },
   "outputs": [],
   "source": [
    "# Warning control\n",
    "import warnings\n",
    "warnings.filterwarnings('ignore')"
   ]
  },
  {
   "cell_type": "markdown",
   "metadata": {},
   "source": [
    "- Import from the crewAI libray."
   ]
  },
  {
   "cell_type": "code",
   "execution_count": 2,
   "metadata": {
    "height": 30
   },
   "outputs": [],
   "source": [
    "from crewai import Agent, Task, Crew"
   ]
  },
  {
   "cell_type": "markdown",
   "metadata": {},
   "source": [
    "- As a LLM for your agents, you'll be using OpenAI's `gpt-3.5-turbo`.\n",
    "\n",
    "**Optional Note:** crewAI also allow other popular models to be used as a LLM for your Agents. You can see some of the examples at the [bottom of the notebook](#1)."
   ]
  },
  {
   "cell_type": "code",
   "execution_count": 3,
   "metadata": {
    "height": 98
   },
   "outputs": [],
   "source": [
    "\n",
    "# from utils import get_openai_api_key\n",
    "# openai_api_key = get_openai_api_key()\n",
    "# os.environ[\"OPENAI_MODEL_NAME\"] = 'gpt-3.5-turbo'\n",
    "\n",
    "# from langchain.llms import Ollama\n",
    "# llm = Ollama(base_url=\"http://localhost:11434/v1\", model=\"mistral:latest\")\n",
    "\n",
    "import os\n",
    "from langchain_openai import ChatOpenAI\n",
    "\n",
    "os.environ[\"OPENAI_API_KEY\"] = \"sk-proj-1111\" # dummy key\n",
    "llm = ChatOpenAI(\n",
    "    model=\"ollama/mistral:latest\",\n",
    "    base_url=\"http://localhost:11434/v1\"\n",
    ")"
   ]
  },
  {
   "cell_type": "markdown",
   "metadata": {},
   "source": [
    "## Creating Agents\n",
    "\n",
    "- Define your Agents, and provide them a `role`, `goal` and `backstory`.\n",
    "- It has been seen that LLMs perform better when they are role playing."
   ]
  },
  {
   "cell_type": "markdown",
   "metadata": {},
   "source": [
    "### Agent: Planner\n",
    "\n",
    "**Note**: The benefit of using _multiple strings_ :\n",
    "```Python\n",
    "varname = \"line 1 of text\"\n",
    "          \"line 2 of text\"\n",
    "```\n",
    "\n",
    "versus the _triple quote docstring_:\n",
    "```Python\n",
    "varname = \"\"\"line 1 of text\n",
    "             line 2 of text\n",
    "          \"\"\"\n",
    "```\n",
    "is that it can avoid adding those whitespaces and newline characters, making it better formatted to be passed to the LLM."
   ]
  },
  {
   "cell_type": "code",
   "execution_count": 4,
   "metadata": {
    "height": 234
   },
   "outputs": [],
   "source": [
    "planner = Agent(\n",
    "    role=\"Content Planner\",\n",
    "    goal=\"Plan engaging and factually accurate content on {topic}\",\n",
    "    backstory=\"You're working on planning a blog article \"\n",
    "              \"about the topic: {topic}.\"\n",
    "              \"You collect information that helps the \"\n",
    "              \"audience learn something \"\n",
    "              \"and make informed decisions. \"\n",
    "              \"Your work is the basis for \"\n",
    "              \"the Content Writer to write an article on this topic.\",\n",
    "    allow_delegation=False,\n",
    "\tverbose=True,\n",
    "    llm=llm\n",
    ")"
   ]
  },
  {
   "cell_type": "markdown",
   "metadata": {},
   "source": [
    "### Agent: Writer"
   ]
  },
  {
   "cell_type": "code",
   "execution_count": 5,
   "metadata": {
    "height": 370
   },
   "outputs": [],
   "source": [
    "writer = Agent(\n",
    "    role=\"Content Writer\",\n",
    "    goal=\"Write insightful and factually accurate \"\n",
    "         \"opinion piece about the topic: {topic}\",\n",
    "    backstory=\"You're working on a writing \"\n",
    "              \"a new opinion piece about the topic: {topic}. \"\n",
    "              \"You base your writing on the work of \"\n",
    "              \"the Content Planner, who provides an outline \"\n",
    "              \"and relevant context about the topic. \"\n",
    "              \"You follow the main objectives and \"\n",
    "              \"direction of the outline, \"\n",
    "              \"as provide by the Content Planner. \"\n",
    "              \"You also provide objective and impartial insights \"\n",
    "              \"and back them up with information \"\n",
    "              \"provide by the Content Planner. \"\n",
    "              \"You acknowledge in your opinion piece \"\n",
    "              \"when your statements are opinions \"\n",
    "              \"as opposed to objective statements.\",\n",
    "    allow_delegation=False,\n",
    "    verbose=True,\n",
    "    llm=llm\n",
    ")"
   ]
  },
  {
   "cell_type": "markdown",
   "metadata": {},
   "source": [
    "### Agent: Editor"
   ]
  },
  {
   "cell_type": "code",
   "execution_count": 6,
   "metadata": {
    "height": 268
   },
   "outputs": [],
   "source": [
    "editor = Agent(\n",
    "    role=\"Editor\",\n",
    "    goal=\"Edit a given blog post to align with \"\n",
    "         \"the writing style of the organization. \",\n",
    "    backstory=\"You are an editor who receives a blog post \"\n",
    "              \"from the Content Writer. \"\n",
    "              \"Your goal is to review the blog post \"\n",
    "              \"to ensure that it follows journalistic best practices,\"\n",
    "              \"provides balanced viewpoints \"\n",
    "              \"when providing opinions or assertions, \"\n",
    "              \"and also avoids major controversial topics \"\n",
    "              \"or opinions when possible.\",\n",
    "    allow_delegation=False,\n",
    "    verbose=True,\n",
    "    llm=llm\n",
    ")"
   ]
  },
  {
   "cell_type": "markdown",
   "metadata": {},
   "source": [
    "## Creating Tasks\n",
    "\n",
    "- Define your Tasks, and provide them a `description`, `expected_output` and `agent`."
   ]
  },
  {
   "cell_type": "markdown",
   "metadata": {},
   "source": [
    "### Task: Plan"
   ]
  },
  {
   "cell_type": "code",
   "execution_count": 7,
   "metadata": {
    "height": 268
   },
   "outputs": [],
   "source": [
    "plan = Task(\n",
    "    description=(\n",
    "        \"1. Prioritize the latest trends, key players, \"\n",
    "            \"and noteworthy news on {topic}.\\n\"\n",
    "        \"2. Identify the target audience, considering \"\n",
    "            \"their interests and pain points.\\n\"\n",
    "        \"3. Develop a detailed content outline including \"\n",
    "            \"an introduction, key points, and a call to action.\\n\"\n",
    "        \"4. Include SEO keywords and relevant data or sources.\"\n",
    "    ),\n",
    "    expected_output=\"A comprehensive content plan document \"\n",
    "        \"with an outline, audience analysis, \"\n",
    "        \"SEO keywords, and resources.\",\n",
    "    agent=planner,\n",
    ")"
   ]
  },
  {
   "cell_type": "markdown",
   "metadata": {},
   "source": [
    "### Task: Write"
   ]
  },
  {
   "cell_type": "code",
   "execution_count": 8,
   "metadata": {
    "height": 319
   },
   "outputs": [],
   "source": [
    "write = Task(\n",
    "    description=(\n",
    "        \"1. Use the content plan to craft a compelling \"\n",
    "            \"blog post on {topic}.\\n\"\n",
    "        \"2. Incorporate SEO keywords naturally.\\n\"\n",
    "\t\t\"3. Sections/Subtitles are properly named \"\n",
    "            \"in an engaging manner.\\n\"\n",
    "        \"4. Ensure the post is structured with an \"\n",
    "            \"engaging introduction, insightful body, \"\n",
    "            \"and a summarizing conclusion.\\n\"\n",
    "        \"5. Proofread for grammatical errors and \"\n",
    "            \"alignment with the brand's voice.\\n\"\n",
    "    ),\n",
    "    expected_output=\"A well-written blog post \"\n",
    "        \"in markdown format, ready for publication, \"\n",
    "        \"each section should have 2 or 3 paragraphs.\",\n",
    "    agent=writer,\n",
    ")"
   ]
  },
  {
   "cell_type": "markdown",
   "metadata": {},
   "source": [
    "### Task: Edit"
   ]
  },
  {
   "cell_type": "code",
   "execution_count": 9,
   "metadata": {
    "height": 166
   },
   "outputs": [],
   "source": [
    "edit = Task(\n",
    "    description=(\"Proofread the given blog post for \"\n",
    "                 \"grammatical errors and \"\n",
    "                 \"alignment with the brand's voice.\"),\n",
    "    expected_output=\"A well-written blog post in markdown format, \"\n",
    "                    \"ready for publication, \"\n",
    "                    \"each section should have 2 or 3 paragraphs.\",\n",
    "    agent=editor\n",
    ")"
   ]
  },
  {
   "cell_type": "markdown",
   "metadata": {},
   "source": [
    "## Creating the Crew\n",
    "\n",
    "- Create your crew of Agents\n",
    "- Pass the tasks to be performed by those agents.\n",
    "    - **Note**: *For this simple example*, the tasks will be performed sequentially (i.e they are dependent on each other), so the _order_ of the task in the list _matters_.\n",
    "- `verbose=2` allows you to see all the logs of the execution. "
   ]
  },
  {
   "cell_type": "code",
   "execution_count": 10,
   "metadata": {
    "height": 98
   },
   "outputs": [],
   "source": [
    "crew = Crew(\n",
    "    agents=[planner, writer, editor],\n",
    "    tasks=[plan, write, edit],\n",
    "    # verbose=2\n",
    "    verbose=True,\n",
    "    llm=llm\n",
    ")"
   ]
  },
  {
   "cell_type": "markdown",
   "metadata": {},
   "source": [
    "## Running the Crew"
   ]
  },
  {
   "cell_type": "markdown",
   "metadata": {},
   "source": [
    "**Note**: LLMs can provide different outputs for they same input, so what you get might be different than what you see in the video."
   ]
  },
  {
   "cell_type": "code",
   "execution_count": 11,
   "metadata": {
    "height": 30
   },
   "outputs": [
    {
     "name": "stdout",
     "output_type": "stream",
     "text": [
      "\u001b[1m\u001b[95m# Agent:\u001b[00m \u001b[1m\u001b[92mContent Planner\u001b[00m\n",
      "\u001b[95m## Task:\u001b[00m \u001b[92m1. Prioritize the latest trends, key players, and noteworthy news on Artificial Intelligence.\n",
      "2. Identify the target audience, considering their interests and pain points.\n",
      "3. Develop a detailed content outline including an introduction, key points, and a call to action.\n",
      "4. Include SEO keywords and relevant data or sources.\u001b[00m\n",
      "\n",
      "\n",
      "\u001b[1m\u001b[95m# Agent:\u001b[00m \u001b[1m\u001b[92mContent Planner\u001b[00m\n",
      "\u001b[95m## Final Answer:\u001b[00m \u001b[92m\n",
      "Title: Navigating the Future of Artificial Intelligence: Trends, Players, and Opportunities for Your Business\n",
      "\n",
      "Introduction:\n",
      "Welcome to our comprehensive guide on Artificial Intelligence (AI). In this article, we'll delve into the latest trends shaping AI, explore the key players making waves in the industry, and discuss the potential impact of AI on your business. With an ever-evolving landscape, staying informed about AI is crucial for making educated decisions.\n",
      "\n",
      "Target Audience:\n",
      "Our primary audience consists of business owners, entrepreneurs, and professionals interested in leveraging AI to gain a competitive edge or streamline their operations. We'll focus on addressing their concerns about the practical applications and potential benefits of AI in various industries.\n",
      "\n",
      "Content Outline:\n",
      "\n",
      "1. The State of Artificial Intelligence:\n",
      "   - Current trends and advancements in AI\n",
      "   - Key players shaping the AI landscape\n",
      "   - Emerging technologies such as machine learning, deep learning, and natural language processing\n",
      "\n",
      "2. Real-World Applications of AI:\n",
      "   - Case studies highlighting successful AI implementations across various industries (e.g., healthcare, finance, retail)\n",
      "   - Explanation of how AI can address common pain points faced by businesses\n",
      "   - Discussion on the future potential of AI and its impact on different sectors\n",
      "\n",
      "3. Navigating the AI Market:\n",
      "   - Tips for identifying suitable AI solutions for your business needs\n",
      "   - Overview of popular AI platforms and tools available to businesses\n",
      "   - Considerations when partnering with AI service providers or integrating AI technologies\n",
      "\n",
      "4. Making Informed Decisions About AI:\n",
      "   - The importance of data privacy, ethics, and transparency in AI adoption\n",
      "   - Strategies for measuring the ROI of AI investments\n",
      "   - Best practices for adopting AI within your organization\n",
      "\n",
      "5. Call to Action:\n",
      "   - Encouraging readers to explore AI solutions tailored to their specific needs\n",
      "   - Offering resources (e.g., whitepapers, webinars, case studies) to help them make informed decisions about AI adoption\n",
      "   - Inviting readers to share their experiences with AI or ask questions for future articles\n",
      "\n",
      "SEO Keywords:\n",
      "- Artificial Intelligence\n",
      "- AI trends 2023\n",
      "- Key players in AI industry\n",
      "- Real-world applications of AI\n",
      "- Navigating the AI market\n",
      "- Making informed decisions about AI adoption\n",
      "\n",
      "Relevant Resources:\n",
      "1. \"The State of AI Report\" by OpenAI (https://research.openai.com/state-of-ai/)\n",
      "2. \"Artificial Intelligence Industry Report 2023\" by CB Insights (https://www.cbinsights.com/reports/artificial-intelligence-industry-overview/)\n",
      "3. \"AI in [Industry Name]: Case Studies and Best Practices\" by [Industry Publication]\n",
      "4. \"A Guide to Evaluating AI Solutions for Your Business\" by TechCrunch (https://techcrunch.com/2021/05/17/a-guide-to-evaluating-ai-solutions-for-your-business/)\n",
      "5. \"Data Privacy, Ethics, and Transparency in AI Adoption\" by Forbes (https://www.forbes.com/sites/forbestechcouncil/2021/11/03/data-privacy-ethics-and-transparency-in-ai-adoption/?sh=658e675b4f9d)\n",
      "6. \"Measuring the ROI of AI Investments: Best Practices and Strategies\" by Harvard Business Review (https://hbr.org/2021/07/measuring-the-roi-of-ai-investments)\u001b[00m\n",
      "\n",
      "\n",
      "\u001b[1m\u001b[95m# Agent:\u001b[00m \u001b[1m\u001b[92mContent Writer\u001b[00m\n",
      "\u001b[95m## Task:\u001b[00m \u001b[92m1. Use the content plan to craft a compelling blog post on Artificial Intelligence.\n",
      "2. Incorporate SEO keywords naturally.\n",
      "3. Sections/Subtitles are properly named in an engaging manner.\n",
      "4. Ensure the post is structured with an engaging introduction, insightful body, and a summarizing conclusion.\n",
      "5. Proofread for grammatical errors and alignment with the brand's voice.\n",
      "\u001b[00m\n",
      "\n",
      "\n",
      "\u001b[1m\u001b[95m# Agent:\u001b[00m \u001b[1m\u001b[92mContent Writer\u001b[00m\n",
      "\u001b[95m## Final Answer:\u001b[00m \u001b[92m\n",
      "```markdown\n",
      "Title: Navigating the Future of Artificial Intelligence: Trends, Players, and Opportunities for Your Business\n",
      "\n",
      "Introduction:\n",
      "Embrace the future as we guide you through the ever-evolving landscape of Artificial Intelligence (AI). In this article, we'll explore the latest trends shaping AI, highlight key players making waves in the industry, and demonstrate real-world applications across various sectors. By understanding AI's potential impact on your business, you can make informed decisions to stay ahead of the curve.\n",
      "\n",
      "**The State of Artificial Intelligence:**\n",
      "- **Current trends and advancements in AI:** The rise of machine learning, deep learning, and natural language processing has revolutionized AI capabilities. (SEO: AI trends 2023)\n",
      "- **Key players shaping the AI landscape:** From tech giants like Google and Microsoft to emerging startups, these companies are driving the future of AI. (SEO: Key players in AI industry)\n",
      "- **Emerging technologies:** Explore how breakthroughs such as edge computing, quantum computing, and generative models are pushing the boundaries of AI.\n",
      "\n",
      "**Real-World Applications of AI:**\n",
      "- **Case studies:** Discover how AI is transforming industries like healthcare, finance, retail, and more. (SEO: Real-world applications of AI)\n",
      "- **Addressing common pain points:** Learn how AI can streamline operations, improve customer service, and drive growth for your business.\n",
      "- **Future potential:** Gain insights into the limitless possibilities of AI and its impact on various sectors in the coming years.\n",
      "\n",
      "**Navigating the AI Market:**\n",
      "- **Identifying suitable solutions:** Tips for finding the perfect AI solution tailored to your unique needs.\n",
      "- **Popular AI platforms and tools:** Overview of the most popular platforms, tools, and services available for businesses.\n",
      "- **Partnering with AI service providers:** Considerations when collaborating with AI service providers or integrating AI technologies.\n",
      "\n",
      "**Making Informed Decisions About AI Adoption:**\n",
      "- **Data privacy, ethics, and transparency:** The importance of prioritizing these values in your AI adoption journey. (SEO: Data Privacy, Ethics, and Transparency in AI Adoption)\n",
      "- **Measuring the ROI of AI investments:** Strategies for evaluating the return on investment of your AI initiatives. (SEO: Measuring the ROI of AI Investments)\n",
      "- **Best practices for adopting AI within your organization:** Tips for a seamless and successful AI integration process.\n",
      "\n",
      "**Call to Action:**\n",
      "- **Explore AI solutions:** Encourage readers to find AI solutions catering to their specific needs. (SEO: AI in [Industry Name]: Case Studies and Best Practices)\n",
      "- **Access resources:** Offer a variety of resources, such as whitepapers, webinars, and case studies, to aid in informed AI decision-making. (SEO: A Guide to Evaluating AI Solutions for Your Business)\n",
      "- **Connect with us:** Invite readers to share their experiences with AI or ask questions for future articles. (SEO: Data Privacy, Ethics, and Transparency in AI Adoption)\n",
      "```\u001b[00m\n",
      "\n",
      "\n",
      "\u001b[1m\u001b[95m# Agent:\u001b[00m \u001b[1m\u001b[92mEditor\u001b[00m\n",
      "\u001b[95m## Task:\u001b[00m \u001b[92mProofread the given blog post for grammatical errors and alignment with the brand's voice.\u001b[00m\n",
      "\n",
      "\n",
      "\u001b[1m\u001b[95m# Agent:\u001b[00m \u001b[1m\u001b[92mEditor\u001b[00m\n",
      "\u001b[95m## Final Answer:\u001b[00m \u001b[92m\n",
      "```markdown\n",
      "Title: Navigating the Future of Artificial Intelligence: Trends, Players, and Opportunities for Your Business\n",
      "\n",
      "Introduction:\n",
      "Welcome to the future as we guide you through the ever-evolving landscape of Artificial Intelligence (AI). In this article, we'll delve into the latest trends shaping AI, highlight key players making waves in the industry, and showcase real-world applications across various sectors. By understanding AI's potential impact on your business, you can make informed decisions to stay ahead of the curve.\n",
      "\n",
      "**The State of Artificial Intelligence:**\n",
      "- **Current trends and advancements in AI:** The ongoing development of machine learning, deep learning, and natural language processing has transformed AI capabilities. (SEO: AI Trends 2023)\n",
      "- **Key players shaping the AI landscape:** From industry titans like Google and Microsoft to promising startups, these companies are redefining the future of AI. (SEO: Key Players in the AI Industry)\n",
      "- **Emerging technologies:** Discover how breakthroughs such as edge computing, quantum computing, and generative models are pushing the boundaries of AI.\n",
      "\n",
      "**Real-World Applications of AI:**\n",
      "- **Case studies:** Unveil how AI is revolutionizing industries like healthcare, finance, retail, and more. (SEO: Real-world applications of AI)\n",
      "- **Addressing common pain points:** Learn about the ways AI can streamline operations, enhance customer service, and foster growth for your business.\n",
      "- **Future potential:** Gain insights into the limitless possibilities of AI and its impact on various sectors in the coming years.\n",
      "\n",
      "**Navigating the AI Market:**\n",
      "- **Identifying suitable solutions:** Tips for finding the ideal AI solution to cater to your unique needs.\n",
      "- **Popular AI platforms and tools:** Overview of the most popular platforms, tools, and services available for businesses.\n",
      "- **Partnering with AI service providers:** Factors to consider when collaborating with AI service providers or integrating AI technologies.\n",
      "\n",
      "**Making Informed Decisions About AI Adoption:**\n",
      "- **Data privacy, ethics, and transparency:** The paramount importance of prioritizing these values during your AI adoption journey. (SEO: Data Privacy, Ethics, and Transparency in AI Adoption)\n",
      "- **Measuring the ROI of AI investments:** Strategies for evaluating the return on investment of your AI initiatives. (SEO: Measuring the ROI of AI Investments)\n",
      "- **Best practices for adopting AI within your organization:** Tips for a smooth and successful AI integration process.\n",
      "\n",
      "**Call to Action:**\n",
      "- **Explore AI solutions:** Encourage readers to find AI solutions tailored to their specific needs. (SEO: AI in [Industry Name]: Case Studies and Best Practices)\n",
      "- **Access resources:** Offer a variety of resources, such as whitepapers, webinars, and case studies, to support informed AI decision-making. (SEO: A Guide to Evaluating AI Solutions for Your Business)\n",
      "- **Connect with us:** Invite readers to share their experiences with AI or ask questions for future articles. (SEO: Data Privacy, Ethics, and Transparency in AI Adoption)\n",
      "```\u001b[00m\n",
      "\n",
      "\n"
     ]
    },
    {
     "name": "stdout",
     "output_type": "stream",
     "text": [
      "\u001b[32;1m\u001b[1;3mI now can give a great answer\n",
      "Final Answer:\n",
      "# The Latest Trends and Key Players in Artificial Intelligence\n",
      "\n",
      "## Introduction\n",
      "\n",
      "Artificial Intelligence (AI) has become an integral part of our daily lives, revolutionizing industries and changing the way we interact with technology. As AI continues to advance at a rapid pace, it is crucial to stay updated on the latest trends and key players shaping the future of this field. In this blog post, we will delve into the latest trends in AI, introduce the key players driving innovation, and explore noteworthy news in the realm of Artificial Intelligence.\n",
      "\n",
      "## Latest Trends in Artificial Intelligence\n",
      "\n",
      "### Machine Learning Advancements\n",
      "One of the most significant trends in AI is the continuous advancements in machine learning algorithms. Machine learning has enabled computers to learn from data and make predictions or decisions without being explicitly programmed, leading to breakthroughs in various applications such as image recognition, natural language processing, and autonomous vehicles.\n",
      "\n",
      "### Natural Language Processing Developments\n",
      "Another key trend in AI is the development of natural language processing (NLP) models that can understand, interpret, and generate human language. NLP technologies have improved significantly in recent years, with applications ranging from chatbots and virtual assistants to language translation and sentiment analysis.\n",
      "\n",
      "### Automation and Robotics Integration\n",
      "AI-powered automation and robotics have transformed industries by streamlining processes, increasing efficiency, and reducing human error. The integration of AI in robotics has led to advancements in autonomous drones, robotic process automation, and collaborative robots that work alongside humans in manufacturing and logistics.\n",
      "\n",
      "### AI Ethics and Regulations\n",
      "With the growing impact of AI on society, there is a pressing need for ethical guidelines and regulations to ensure the responsible development and deployment of AI technologies. Issues such as bias in AI algorithms, data privacy concerns, and the impact of automation on jobs have sparked discussions on the ethical implications of AI.\n",
      "\n",
      "## Key Players in Artificial Intelligence\n",
      "\n",
      "### Google\n",
      "Google is a leading player in the AI industry, with a focus on developing AI-powered products and services such as Google Search, Google Assistant, and DeepMind. The company's research in machine learning and neural networks has led to breakthroughs in AI technology and applications.\n",
      "\n",
      "### Amazon\n",
      "Amazon has integrated AI across its e-commerce platform, logistics operations, and cloud services, leveraging machine learning algorithms for personalized recommendations, supply chain optimization, and voice recognition through Alexa. The company's AI initiatives have reshaped the retail and cloud computing industries.\n",
      "\n",
      "### Microsoft\n",
      "Microsoft is at the forefront of AI research and innovation, with investments in AI-powered productivity tools, cloud services, and intelligent applications. The company's AI platform, Azure AI, offers a wide range of services for developers, businesses, and researchers to build and deploy AI solutions.\n",
      "\n",
      "### IBM\n",
      "IBM has a long history in AI research and development, with a focus on cognitive computing, natural language processing, and AI ethics. The company's AI platform, Watson, is known for its capabilities in data analysis, predictive modeling, and decision support across various industries.\n",
      "\n",
      "### OpenAI\n",
      "OpenAI is a non-profit AI research organization dedicated to advancing artificial intelligence in a safe and beneficial manner. The organization focuses on developing AI technologies that are aligned with human values and ethics, with a mission to ensure that AI benefits all of humanity.\n",
      "\n",
      "## Noteworthy News in Artificial Intelligence\n",
      "\n",
      "### Recent Breakthroughs in AI Technology\n",
      "Recent breakthroughs in AI technology include advancements in deep learning, reinforcement learning, and generative models that have enabled new applications in healthcare, finance, and cybersecurity. Researchers continue to push the boundaries of AI capabilities, with implications for various industries and societal challenges.\n",
      "\n",
      "### Industry Partnerships and Collaborations\n",
      "AI companies are forming strategic partnerships and collaborations to accelerate innovation and address complex challenges in the field. Collaborations between tech giants, research institutions, and startups have led to advancements in AI research, product development, and the democratization of AI technologies.\n",
      "\n",
      "### AI Applications in Various Sectors\n",
      "AI applications are transforming industries such as healthcare, finance, transportation, and agriculture, with the potential to improve decision-making, optimize processes, and enhance customer experiences. From personalized medicine to predictive analytics, AI is reshaping the way businesses operate and deliver value to their customers.\n",
      "\n",
      "### Future Predictions and Challenges in AI\n",
      "The future of AI holds promise and challenges, with predictions ranging from AI surpassing human intelligence to concerns about job displacement, data privacy, and ethical dilemmas. As AI technologies continue to evolve, it is essential to address these challenges proactively and ensure that AI benefits society as a whole.\n",
      "\n",
      "## Conclusion\n",
      "\n",
      "In conclusion, Artificial Intelligence is a dynamic and rapidly evolving field that presents exciting opportunities and challenges for society. By staying informed about the latest trends, key players, and noteworthy news in AI, individuals can make informed decisions, drive innovation, and shape the future of technology. As AI continues to transform industries and reshape the way we live and work, it is essential to engage with the ethical, regulatory, and societal implications of AI to ensure a sustainable and beneficial future for all.\n",
      "\n",
      "*Stay informed about the latest trends and key players in Artificial Intelligence. Explore the resources provided for further information and insights.*\u001b[0m\n",
      "\n",
      "\u001b[1m> Finished chain.\u001b[0m\n",
      "\u001b[1m\u001b[92m [DEBUG]: == [Editor] Task output: # The Latest Trends and Key Players in Artificial Intelligence\n",
      "\n",
      "## Introduction\n",
      "\n",
      "Artificial Intelligence (AI) has become an integral part of our daily lives, revolutionizing industries and changing the way we interact with technology. As AI continues to advance at a rapid pace, it is crucial to stay updated on the latest trends and key players shaping the future of this field. In this blog post, we will delve into the latest trends in AI, introduce the key players driving innovation, and explore noteworthy news in the realm of Artificial Intelligence.\n",
      "\n",
      "## Latest Trends in Artificial Intelligence\n",
      "\n",
      "### Machine Learning Advancements\n",
      "One of the most significant trends in AI is the continuous advancements in machine learning algorithms. Machine learning has enabled computers to learn from data and make predictions or decisions without being explicitly programmed, leading to breakthroughs in various applications such as image recognition, natural language processing, and autonomous vehicles.\n",
      "\n",
      "### Natural Language Processing Developments\n",
      "Another key trend in AI is the development of natural language processing (NLP) models that can understand, interpret, and generate human language. NLP technologies have improved significantly in recent years, with applications ranging from chatbots and virtual assistants to language translation and sentiment analysis.\n",
      "\n",
      "### Automation and Robotics Integration\n",
      "AI-powered automation and robotics have transformed industries by streamlining processes, increasing efficiency, and reducing human error. The integration of AI in robotics has led to advancements in autonomous drones, robotic process automation, and collaborative robots that work alongside humans in manufacturing and logistics.\n",
      "\n",
      "### AI Ethics and Regulations\n",
      "With the growing impact of AI on society, there is a pressing need for ethical guidelines and regulations to ensure the responsible development and deployment of AI technologies. Issues such as bias in AI algorithms, data privacy concerns, and the impact of automation on jobs have sparked discussions on the ethical implications of AI.\n",
      "\n",
      "## Key Players in Artificial Intelligence\n",
      "\n",
      "### Google\n",
      "Google is a leading player in the AI industry, with a focus on developing AI-powered products and services such as Google Search, Google Assistant, and DeepMind. The company's research in machine learning and neural networks has led to breakthroughs in AI technology and applications.\n",
      "\n",
      "### Amazon\n",
      "Amazon has integrated AI across its e-commerce platform, logistics operations, and cloud services, leveraging machine learning algorithms for personalized recommendations, supply chain optimization, and voice recognition through Alexa. The company's AI initiatives have reshaped the retail and cloud computing industries.\n",
      "\n",
      "### Microsoft\n",
      "Microsoft is at the forefront of AI research and innovation, with investments in AI-powered productivity tools, cloud services, and intelligent applications. The company's AI platform, Azure AI, offers a wide range of services for developers, businesses, and researchers to build and deploy AI solutions.\n",
      "\n",
      "### IBM\n",
      "IBM has a long history in AI research and development, with a focus on cognitive computing, natural language processing, and AI ethics. The company's AI platform, Watson, is known for its capabilities in data analysis, predictive modeling, and decision support across various industries.\n",
      "\n",
      "### OpenAI\n",
      "OpenAI is a non-profit AI research organization dedicated to advancing artificial intelligence in a safe and beneficial manner. The organization focuses on developing AI technologies that are aligned with human values and ethics, with a mission to ensure that AI benefits all of humanity.\n",
      "\n",
      "## Noteworthy News in Artificial Intelligence\n",
      "\n",
      "### Recent Breakthroughs in AI Technology\n",
      "Recent breakthroughs in AI technology include advancements in deep learning, reinforcement learning, and generative models that have enabled new applications in healthcare, finance, and cybersecurity. Researchers continue to push the boundaries of AI capabilities, with implications for various industries and societal challenges.\n",
      "\n",
      "### Industry Partnerships and Collaborations\n",
      "AI companies are forming strategic partnerships and collaborations to accelerate innovation and address complex challenges in the field. Collaborations between tech giants, research institutions, and startups have led to advancements in AI research, product development, and the democratization of AI technologies.\n",
      "\n",
      "### AI Applications in Various Sectors\n",
      "AI applications are transforming industries such as healthcare, finance, transportation, and agriculture, with the potential to improve decision-making, optimize processes, and enhance customer experiences. From personalized medicine to predictive analytics, AI is reshaping the way businesses operate and deliver value to their customers.\n",
      "\n",
      "### Future Predictions and Challenges in AI\n",
      "The future of AI holds promise and challenges, with predictions ranging from AI surpassing human intelligence to concerns about job displacement, data privacy, and ethical dilemmas. As AI technologies continue to evolve, it is essential to address these challenges proactively and ensure that AI benefits society as a whole.\n",
      "\n",
      "## Conclusion\n",
      "\n",
      "In conclusion, Artificial Intelligence is a dynamic and rapidly evolving field that presents exciting opportunities and challenges for society. By staying informed about the latest trends, key players, and noteworthy news in AI, individuals can make informed decisions, drive innovation, and shape the future of technology. As AI continues to transform industries and reshape the way we live and work, it is essential to engage with the ethical, regulatory, and societal implications of AI to ensure a sustainable and beneficial future for all.\n",
      "\n",
      "*Stay informed about the latest trends and key players in Artificial Intelligence. Explore the resources provided for further information and insights.*\n",
      "\n",
      "\u001b[00m\n"
     ]
    }
   ],
   "source": [
    "result = crew.kickoff(inputs={\"topic\": \"Artificial Intelligence\"})"
   ]
  },
  {
   "cell_type": "code",
   "execution_count": 12,
   "metadata": {},
   "outputs": [
    {
     "data": {
      "text/plain": [
       "crewai.crews.crew_output.CrewOutput"
      ]
     },
     "execution_count": 12,
     "metadata": {},
     "output_type": "execute_result"
    }
   ],
   "source": [
    "type(result)"
   ]
  },
  {
   "cell_type": "code",
   "execution_count": 13,
   "metadata": {},
   "outputs": [
    {
     "name": "stdout",
     "output_type": "stream",
     "text": [
      "```markdown\n",
      "Title: Navigating the Future of Artificial Intelligence: Trends, Players, and Opportunities for Your Business\n",
      "\n",
      "Introduction:\n",
      "Welcome to the future as we guide you through the ever-evolving landscape of Artificial Intelligence (AI). In this article, we'll delve into the latest trends shaping AI, highlight key players making waves in the industry, and showcase real-world applications across various sectors. By understanding AI's potential impact on your business, you can make informed decisions to stay ahead of the curve.\n",
      "\n",
      "**The State of Artificial Intelligence:**\n",
      "- **Current trends and advancements in AI:** The ongoing development of machine learning, deep learning, and natural language processing has transformed AI capabilities. (SEO: AI Trends 2023)\n",
      "- **Key players shaping the AI landscape:** From industry titans like Google and Microsoft to promising startups, these companies are redefining the future of AI. (SEO: Key Players in the AI Industry)\n",
      "- **Emerging technologies:** Discover how breakthroughs such as edge computing, quantum computing, and generative models are pushing the boundaries of AI.\n",
      "\n",
      "**Real-World Applications of AI:**\n",
      "- **Case studies:** Unveil how AI is revolutionizing industries like healthcare, finance, retail, and more. (SEO: Real-world applications of AI)\n",
      "- **Addressing common pain points:** Learn about the ways AI can streamline operations, enhance customer service, and foster growth for your business.\n",
      "- **Future potential:** Gain insights into the limitless possibilities of AI and its impact on various sectors in the coming years.\n",
      "\n",
      "**Navigating the AI Market:**\n",
      "- **Identifying suitable solutions:** Tips for finding the ideal AI solution to cater to your unique needs.\n",
      "- **Popular AI platforms and tools:** Overview of the most popular platforms, tools, and services available for businesses.\n",
      "- **Partnering with AI service providers:** Factors to consider when collaborating with AI service providers or integrating AI technologies.\n",
      "\n",
      "**Making Informed Decisions About AI Adoption:**\n",
      "- **Data privacy, ethics, and transparency:** The paramount importance of prioritizing these values during your AI adoption journey. (SEO: Data Privacy, Ethics, and Transparency in AI Adoption)\n",
      "- **Measuring the ROI of AI investments:** Strategies for evaluating the return on investment of your AI initiatives. (SEO: Measuring the ROI of AI Investments)\n",
      "- **Best practices for adopting AI within your organization:** Tips for a smooth and successful AI integration process.\n",
      "\n",
      "**Call to Action:**\n",
      "- **Explore AI solutions:** Encourage readers to find AI solutions tailored to their specific needs. (SEO: AI in [Industry Name]: Case Studies and Best Practices)\n",
      "- **Access resources:** Offer a variety of resources, such as whitepapers, webinars, and case studies, to support informed AI decision-making. (SEO: A Guide to Evaluating AI Solutions for Your Business)\n",
      "- **Connect with us:** Invite readers to share their experiences with AI or ask questions for future articles. (SEO: Data Privacy, Ethics, and Transparency in AI Adoption)\n",
      "```\n"
     ]
    }
   ],
   "source": [
    "# print(result)"
   ]
  },
  {
   "cell_type": "markdown",
   "metadata": {},
   "source": [
    "- Display the results of your execution as markdown in the notebook."
   ]
  },
  {
   "cell_type": "code",
   "execution_count": 14,
   "metadata": {
    "height": 47
   },
   "outputs": [
    {
     "data": {
      "text/markdown": [
       "```markdown\n",
       "Title: Navigating the Future of Artificial Intelligence: Trends, Players, and Opportunities for Your Business\n",
       "\n",
       "Introduction:\n",
       "Welcome to the future as we guide you through the ever-evolving landscape of Artificial Intelligence (AI). In this article, we'll delve into the latest trends shaping AI, highlight key players making waves in the industry, and showcase real-world applications across various sectors. By understanding AI's potential impact on your business, you can make informed decisions to stay ahead of the curve.\n",
       "\n",
       "**The State of Artificial Intelligence:**\n",
       "- **Current trends and advancements in AI:** The ongoing development of machine learning, deep learning, and natural language processing has transformed AI capabilities. (SEO: AI Trends 2023)\n",
       "- **Key players shaping the AI landscape:** From industry titans like Google and Microsoft to promising startups, these companies are redefining the future of AI. (SEO: Key Players in the AI Industry)\n",
       "- **Emerging technologies:** Discover how breakthroughs such as edge computing, quantum computing, and generative models are pushing the boundaries of AI.\n",
       "\n",
       "**Real-World Applications of AI:**\n",
       "- **Case studies:** Unveil how AI is revolutionizing industries like healthcare, finance, retail, and more. (SEO: Real-world applications of AI)\n",
       "- **Addressing common pain points:** Learn about the ways AI can streamline operations, enhance customer service, and foster growth for your business.\n",
       "- **Future potential:** Gain insights into the limitless possibilities of AI and its impact on various sectors in the coming years.\n",
       "\n",
       "**Navigating the AI Market:**\n",
       "- **Identifying suitable solutions:** Tips for finding the ideal AI solution to cater to your unique needs.\n",
       "- **Popular AI platforms and tools:** Overview of the most popular platforms, tools, and services available for businesses.\n",
       "- **Partnering with AI service providers:** Factors to consider when collaborating with AI service providers or integrating AI technologies.\n",
       "\n",
       "**Making Informed Decisions About AI Adoption:**\n",
       "- **Data privacy, ethics, and transparency:** The paramount importance of prioritizing these values during your AI adoption journey. (SEO: Data Privacy, Ethics, and Transparency in AI Adoption)\n",
       "- **Measuring the ROI of AI investments:** Strategies for evaluating the return on investment of your AI initiatives. (SEO: Measuring the ROI of AI Investments)\n",
       "- **Best practices for adopting AI within your organization:** Tips for a smooth and successful AI integration process.\n",
       "\n",
       "**Call to Action:**\n",
       "- **Explore AI solutions:** Encourage readers to find AI solutions tailored to their specific needs. (SEO: AI in [Industry Name]: Case Studies and Best Practices)\n",
       "- **Access resources:** Offer a variety of resources, such as whitepapers, webinars, and case studies, to support informed AI decision-making. (SEO: A Guide to Evaluating AI Solutions for Your Business)\n",
       "- **Connect with us:** Invite readers to share their experiences with AI or ask questions for future articles. (SEO: Data Privacy, Ethics, and Transparency in AI Adoption)\n",
       "```"
      ],
      "text/plain": [
       "<IPython.core.display.Markdown object>"
      ]
     },
     "execution_count": 14,
     "metadata": {},
     "output_type": "execute_result"
    }
   ],
   "source": [
    "from IPython.display import Markdown\n",
    "# Markdown(result)\n",
    "Markdown(str(result))"
   ]
  },
  {
   "cell_type": "markdown",
   "metadata": {},
   "source": [
    "## Try it Yourself\n",
    "\n",
    "- Pass in a topic of your choice and see what the agents come up with!"
   ]
  },
  {
   "cell_type": "code",
   "execution_count": null,
   "metadata": {
    "height": 47
   },
   "outputs": [
    {
     "name": "stdout",
     "output_type": "stream",
     "text": [
      "\u001b[1m\u001b[95m# Agent:\u001b[00m \u001b[1m\u001b[92mContent Planner\u001b[00m\n",
      "\u001b[95m## Task:\u001b[00m \u001b[92m1. Prioritize the latest trends, key players, and noteworthy news on Transformer Model: Attention is all you need.\n",
      "2. Identify the target audience, considering their interests and pain points.\n",
      "3. Develop a detailed content outline including an introduction, key points, and a call to action.\n",
      "4. Include SEO keywords and relevant data or sources.\u001b[00m\n",
      "\n",
      "\n",
      "\u001b[1m\u001b[95m# Agent:\u001b[00m \u001b[1m\u001b[92mContent Planner\u001b[00m\n",
      "\u001b[95m## Final Answer:\u001b[00m \u001b[92m\n",
      "Content Plan for \"Transformer Model: Attention is all you need\"\n",
      "\n",
      "Target Audience: Data scientists, machine learning enthusiasts, and software developers with some knowledge of deep learning and neural networks. Interests include natural language processing (NLP), artificial intelligence (AI), and computational linguistics. Pain points may include difficulty in understanding complex models and their applications, and a need for practical examples and solutions.\n",
      "\n",
      "Content Outline:\n",
      "\n",
      "1. Introduction\n",
      "   - Briefly introduce the Transformer model and its importance in the field of NLP.\n",
      "   - Mention that the article will focus on the \"Attention is all you need\" aspect of the Transformer model.\n",
      "   - Highlight the benefits of using the Transformer model for various tasks, such as machine translation and text summarization.\n",
      "\n",
      "2. Background and History\n",
      "   - Discuss the evolution of neural networks and their application in NLP.\n",
      "   - Explain the limitations of previous models (e.g., RNNs, LSTMs) and how they led to the development of the Transformer model.\n",
      "   - Introduce Vaswani et al.'s \"Attention is All You Need\" paper and its impact on the field.\n",
      "\n",
      "3. Understanding Attention Mechanisms in the Transformer Model\n",
      "   - Explain what attention mechanisms are and their role in NLP tasks.\n",
      "   - Discuss the two types of attention: Scaled Dot-Product Attention (SDPA) and Multi-Head Attention.\n",
      "   - Provide examples and visualizations to help readers understand these concepts.\n",
      "\n",
      "4. The Transformer Model Architecture\n",
      "   - Describe the overall structure of the Transformer model, including encoder and decoder layers, self-attention mechanisms, and position-wise feed-forward networks.\n",
      "   - Discuss the role of positional encoding in the Transformer model.\n",
      "   - Provide a brief overview of BERT (Bidirectional Encoder Representations from Transformers), a popular application of the Transformer model.\n",
      "\n",
      "5. Practical Applications and Use Cases\n",
      "   - Showcase real-world examples of the Transformer model's applications, such as machine translation using Google Translate or text summarization with SUMMA.\n",
      "   - Discuss potential use cases for readers interested in applying the Transformer model to their own projects.\n",
      "\n",
      "6. Comparison with Other Models and Benefits\n",
      "   - Compare the Transformer model with other popular NLP models, such as LSTM and RNN.\n",
      "   - Highlight the benefits of using the Transformer model, including its ability to handle longer sequences more effectively and its superior performance in various tasks.\n",
      "\n",
      "7. Call to Action\n",
      "   - Encourage readers to explore open-source implementations of the Transformer model, such as TensorFlow's Transformers library or Hugging Face's Transformers toolkit.\n",
      "   - Invite readers to share their experiences with using the Transformer model in their own projects and engage in discussions about its applications and limitations.\n",
      "\n",
      "SEO Keywords: Transformer Model, Attention Mechanisms, Natural Language Processing, Machine Learning, Deep Learning, Neural Networks, Scaled Dot-Product Attention, Multi-Head Attention, BERT, Google Translate, Text Summarization, SUMMA, LSTM, RNN.\n",
      "\n",
      "Relevant Data or Sources:\n",
      "\n",
      "1. Vaswani et al., \"Attention is All You Need.\" arXiv preprint arXiv:1706.03762 (2017).\n",
      "2. Devlin et al., \"BERT: Pre-training of Deep Bidirectional Transformers for Language Understanding.\" arXiv preprint arXiv:1810.04805 (2018).\n",
      "3. Google Research Blog, \"Google's neural machine translation system: Bridging the gap between human and machine translation.\" Google AI Blog, July 19, 2016. (https://ai.googleblog.com/2016/07/googles-neural-machine-translation-system.html)\n",
      "4. Amazon Web Services, \"Amazon Transcribe - Deep learning-based automatic speech recognition service.\" AWS Machine Learning, 2021. (https://aws.amazon.com/transcribe/)\n",
      "5. Hugging Face, \"Transformers – State-of-the-art Machine Learning for Pytorch & TensorFlow.\" Hugging Face, 2021. (https://huggingface.co/transformers/)\n",
      "6. TensorFlow, \"TensorFlow Transformers: Build state-of-the-art transformer models with TensorFlow.\" TensorFlow, 2021. (https://www.tensorflow.org/transformers/)\u001b[00m\n",
      "\n",
      "\n",
      "\u001b[1m\u001b[95m# Agent:\u001b[00m \u001b[1m\u001b[92mContent Writer\u001b[00m\n",
      "\u001b[95m## Task:\u001b[00m \u001b[92m1. Use the content plan to craft a compelling blog post on Transformer Model: Attention is all you need.\n",
      "2. Incorporate SEO keywords naturally.\n",
      "3. Sections/Subtitles are properly named in an engaging manner.\n",
      "4. Ensure the post is structured with an engaging introduction, insightful body, and a summarizing conclusion.\n",
      "5. Proofread for grammatical errors and alignment with the brand's voice.\n",
      "\u001b[00m\n"
     ]
    },
    {
     "name": "stdout",
     "output_type": "stream",
     "text": [
      "\u001b[32;1m\u001b[1;3mI now can give a great answer\n",
      "\n",
      "Final Answer:\n",
      "# Understanding the Transformer Model: Attention is all you need\n",
      "\n",
      "## Introduction\n",
      "In the realm of natural language processing, the Transformer Model has emerged as a game-changer, revolutionizing the way we approach deep learning tasks. At the heart of this innovative model lies the attention mechanism, a powerful concept that has reshaped the landscape of NLP. Developed by Vaswani et al. in 2017, the Transformer architecture has gained widespread popularity for its ability to handle sequential data with unparalleled efficiency and effectiveness.\n",
      "\n",
      "## Latest Trends\n",
      "The latest advancements in Transformer-based models, such as BERT, GPT-3, and T5, have pushed the boundaries of what is possible in NLP. These models have demonstrated remarkable performance on a variety of tasks, from language understanding to text generation. Companies and research institutions like Google, OpenAI, and Facebook AI Research have been at the forefront of developing and popularizing these cutting-edge models, paving the way for new applications and breakthroughs in the field.\n",
      "\n",
      "## Key Players\n",
      "The contributions of key researchers in the field of Transformer models cannot be overstated. Visionaries like Vaswani et al. have laid the foundation for the development of these groundbreaking architectures, inspiring a new generation of data scientists and machine learning engineers. Companies like Google and OpenAI continue to drive innovation in the field, pushing the boundaries of what is possible with deep learning and neural networks.\n",
      "\n",
      "## Noteworthy News\n",
      "Recent news articles, blog posts, and research papers have shed light on the latest developments in the world of Transformer models. From new pre-trained models to innovative applications in different domains, the Transformer Model continues to captivate researchers and industry professionals alike. Stay tuned for updates on the most cutting-edge research and advancements in the field of natural language processing.\n",
      "\n",
      "In conclusion, the Transformer Model has truly changed the game when it comes to deep learning and NLP. By focusing on the power of attention, researchers and practitioners have unlocked new possibilities and pushed the boundaries of what is possible with neural networks. As we look to the future, the Transformer Model will undoubtedly continue to shape the way we approach language processing and artificial intelligence as a whole.\u001b[0m\n",
      "\n",
      "\u001b[1m> Finished chain.\u001b[0m\n",
      "\u001b[1m\u001b[92m [DEBUG]: == [Editor] Task output: # Understanding the Transformer Model: Attention is all you need\n",
      "\n",
      "## Introduction\n",
      "In the realm of natural language processing, the Transformer Model has emerged as a game-changer, revolutionizing the way we approach deep learning tasks. At the heart of this innovative model lies the attention mechanism, a powerful concept that has reshaped the landscape of NLP. Developed by Vaswani et al. in 2017, the Transformer architecture has gained widespread popularity for its ability to handle sequential data with unparalleled efficiency and effectiveness.\n",
      "\n",
      "## Latest Trends\n",
      "The latest advancements in Transformer-based models, such as BERT, GPT-3, and T5, have pushed the boundaries of what is possible in NLP. These models have demonstrated remarkable performance on a variety of tasks, from language understanding to text generation. Companies and research institutions like Google, OpenAI, and Facebook AI Research have been at the forefront of developing and popularizing these cutting-edge models, paving the way for new applications and breakthroughs in the field.\n",
      "\n",
      "## Key Players\n",
      "The contributions of key researchers in the field of Transformer models cannot be overstated. Visionaries like Vaswani et al. have laid the foundation for the development of these groundbreaking architectures, inspiring a new generation of data scientists and machine learning engineers. Companies like Google and OpenAI continue to drive innovation in the field, pushing the boundaries of what is possible with deep learning and neural networks.\n",
      "\n",
      "## Noteworthy News\n",
      "Recent news articles, blog posts, and research papers have shed light on the latest developments in the world of Transformer models. From new pre-trained models to innovative applications in different domains, the Transformer Model continues to captivate researchers and industry professionals alike. Stay tuned for updates on the most cutting-edge research and advancements in the field of natural language processing.\n",
      "\n",
      "In conclusion, the Transformer Model has truly changed the game when it comes to deep learning and NLP. By focusing on the power of attention, researchers and practitioners have unlocked new possibilities and pushed the boundaries of what is possible with neural networks. As we look to the future, the Transformer Model will undoubtedly continue to shape the way we approach language processing and artificial intelligence as a whole.\n",
      "\n",
      "\u001b[00m\n"
     ]
    }
   ],
   "source": [
    "topic = \"Transformer Model: Attention is all you need\"\n",
    "result = crew.kickoff(inputs={\"topic\": topic})"
   ]
  },
  {
   "cell_type": "code",
   "execution_count": null,
   "metadata": {
    "height": 30
   },
   "outputs": [],
   "source": []
  },
  {
   "cell_type": "markdown",
   "metadata": {},
   "source": [
    "<a name='1'></a>\n",
    " ## Other Popular Models as LLM for your Agents"
   ]
  },
  {
   "cell_type": "markdown",
   "metadata": {},
   "source": [
    "#### Hugging Face (HuggingFaceHub endpoint)\n",
    "\n",
    "```Python\n",
    "from langchain_community.llms import HuggingFaceHub\n",
    "\n",
    "llm1 = HuggingFaceHub(\n",
    "    repo_id=\"HuggingFaceH4/zephyr-7b-beta\",\n",
    "    huggingfacehub_api_token=\"<HF_TOKEN_HERE>\",\n",
    "    task=\"text-generation\",\n",
    ")\n",
    "\n",
    "### you will pass \"llm\" to your agent function\n",
    "```"
   ]
  },
  {
   "cell_type": "markdown",
   "metadata": {},
   "source": [
    "#### Mistral API\n",
    "\n",
    "```Python\n",
    "OPENAI_API_KEY=your-mistral-api-key\n",
    "OPENAI_API_BASE=https://api.mistral.ai/v1\n",
    "OPENAI_MODEL_NAME=\"mistral-small\"\n",
    "```"
   ]
  },
  {
   "cell_type": "markdown",
   "metadata": {},
   "source": [
    "#### Cohere\n",
    "\n",
    "```Python\n",
    "from langchain_community.chat_models import ChatCohere\n",
    "# Initialize language model\n",
    "os.environ[\"COHERE_API_KEY\"] = \"your-cohere-api-key\"\n",
    "llm2 = ChatCohere()\n",
    "\n",
    "### you will pass \"llm\" to your agent function\n",
    "```"
   ]
  },
  {
   "cell_type": "markdown",
   "metadata": {},
   "source": [
    "### For using Llama locally with Ollama and more, checkout the crewAI documentation on [Connecting to any LLM](https://docs.crewai.com/how-to/LLM-Connections/)."
   ]
  },
  {
   "cell_type": "code",
   "execution_count": null,
   "metadata": {
    "height": 30
   },
   "outputs": [],
   "source": []
  },
  {
   "cell_type": "code",
   "execution_count": null,
   "metadata": {
    "height": 30
   },
   "outputs": [],
   "source": []
  },
  {
   "cell_type": "code",
   "execution_count": null,
   "metadata": {
    "height": 30
   },
   "outputs": [],
   "source": []
  }
 ],
 "metadata": {
  "colab": {
   "gpuType": "T4",
   "provenance": []
  },
  "kernelspec": {
   "display_name": "Python 3 (ipykernel)",
   "language": "python",
   "name": "python3"
  },
  "language_info": {
   "codemirror_mode": {
    "name": "ipython",
    "version": 3
   },
   "file_extension": ".py",
   "mimetype": "text/x-python",
   "name": "python",
   "nbconvert_exporter": "python",
   "pygments_lexer": "ipython3",
   "version": "3.12.8"
  }
 },
 "nbformat": 4,
 "nbformat_minor": 4
}
